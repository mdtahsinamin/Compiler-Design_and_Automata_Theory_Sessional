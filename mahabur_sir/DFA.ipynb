{
 "cells": [
  {
   "cell_type": "code",
   "execution_count": 2,
   "metadata": {},
   "outputs": [],
   "source": [
    "import pandas as pd\n",
    "import matplotlib.pyplot as plt\n",
    "import networkx as nx"
   ]
  },
  {
   "cell_type": "code",
   "execution_count": 3,
   "metadata": {},
   "outputs": [],
   "source": [
    "class DFA:\n",
    "    def __init__(self, states, alphabet, transitions, start_state, accept_states):\n",
    "        self.states = states\n",
    "        self.alphabet = alphabet\n",
    "        self.transitions = transitions\n",
    "        self.start_state = start_state\n",
    "        self.accept_states = accept_states\n",
    "\n",
    "    def run(self, input_string):\n",
    "        current_state = self.start_state\n",
    "        for symbol in input_string:\n",
    "            current_state = self.transitions.get((current_state, symbol), None)\n",
    "            if current_state is None:\n",
    "                return False\n",
    "        return current_state in self.accept_states"
   ]
  },
  {
   "cell_type": "code",
   "execution_count": 4,
   "metadata": {},
   "outputs": [],
   "source": [
    "def create_dfa():\n",
    "    states = {'q0', 'q1', 'q2'}\n",
    "    alphabet = {'0', '1'}\n",
    "    transitions = {\n",
    "        ('q0', '0'): 'q1',\n",
    "        ('q0', '1'): 'q2',\n",
    "        ('q1', '0'): 'q0',\n",
    "        ('q1', '1'): 'q1',\n",
    "        ('q2', '0'): 'q2',\n",
    "        ('q2', '1'): 'q0'\n",
    "    }\n",
    "    start_state = 'q0'\n",
    "    accept_states = {'q0'}\n",
    "\n",
    "    return DFA(states, alphabet, transitions, start_state, accept_states)"
   ]
  },
  {
   "cell_type": "code",
   "execution_count": 5,
   "metadata": {},
   "outputs": [],
   "source": [
    "\n",
    "def display_dfa_table(dfa):\n",
    "    df = pd.DataFrame(columns=['State'] + list(dfa.alphabet) + ['Accept'])\n",
    "    \n",
    "    for state in dfa.states:\n",
    "        row = [state]\n",
    "        for symbol in dfa.alphabet:\n",
    "            next_state = dfa.transitions.get((state, symbol), '-')\n",
    "            row.append(next_state)\n",
    "        row.append('Yes' if state in dfa.accept_states else 'No')\n",
    "        df = df.append(pd.Series(row, index=df.columns), ignore_index=True)\n",
    "    \n",
    "    display(df)\n"
   ]
  },
  {
   "cell_type": "code",
   "execution_count": 6,
   "metadata": {},
   "outputs": [],
   "source": [
    "def display_dfa_diagram(dfa):\n",
    "    G = nx.DiGraph()\n",
    "    for state in dfa.states:\n",
    "        G.add_node(state)\n",
    "    for (current_state, symbol), next_state in dfa.transitions.items():\n",
    "        G.add_edge(current_state, next_state, label=symbol)\n",
    "    \n",
    "    pos = nx.spring_layout(G)\n",
    "    labels = {state: state for state in dfa.states}\n",
    "    edge_labels = {(current_state, next_state): symbol for (current_state, symbol), next_state in dfa.transitions.items()}\n",
    "\n",
    "    nx.draw_networkx_nodes(G, pos, nodelist=dfa.states, node_color='skyblue')\n",
    "    nx.draw_networkx_edges(G, pos)\n",
    "    nx.draw_networkx_labels(G, pos, labels)\n",
    "    nx.draw_networkx_edge_labels(G, pos, edge_labels=edge_labels)\n",
    "\n",
    "    plt.show()\n"
   ]
  },
  {
   "cell_type": "code",
   "execution_count": 7,
   "metadata": {},
   "outputs": [
    {
     "name": "stderr",
     "output_type": "stream",
     "text": [
      "C:\\Users\\tahsi\\AppData\\Local\\Temp\\ipykernel_20428\\818748288.py:10: FutureWarning: The frame.append method is deprecated and will be removed from pandas in a future version. Use pandas.concat instead.\n",
      "  df = df.append(pd.Series(row, index=df.columns), ignore_index=True)\n",
      "C:\\Users\\tahsi\\AppData\\Local\\Temp\\ipykernel_20428\\818748288.py:10: FutureWarning: The frame.append method is deprecated and will be removed from pandas in a future version. Use pandas.concat instead.\n",
      "  df = df.append(pd.Series(row, index=df.columns), ignore_index=True)\n",
      "C:\\Users\\tahsi\\AppData\\Local\\Temp\\ipykernel_20428\\818748288.py:10: FutureWarning: The frame.append method is deprecated and will be removed from pandas in a future version. Use pandas.concat instead.\n",
      "  df = df.append(pd.Series(row, index=df.columns), ignore_index=True)\n"
     ]
    },
    {
     "data": {
      "text/html": [
       "<div>\n",
       "<style scoped>\n",
       "    .dataframe tbody tr th:only-of-type {\n",
       "        vertical-align: middle;\n",
       "    }\n",
       "\n",
       "    .dataframe tbody tr th {\n",
       "        vertical-align: top;\n",
       "    }\n",
       "\n",
       "    .dataframe thead th {\n",
       "        text-align: right;\n",
       "    }\n",
       "</style>\n",
       "<table border=\"1\" class=\"dataframe\">\n",
       "  <thead>\n",
       "    <tr style=\"text-align: right;\">\n",
       "      <th></th>\n",
       "      <th>State</th>\n",
       "      <th>1</th>\n",
       "      <th>0</th>\n",
       "      <th>Accept</th>\n",
       "    </tr>\n",
       "  </thead>\n",
       "  <tbody>\n",
       "    <tr>\n",
       "      <th>0</th>\n",
       "      <td>q1</td>\n",
       "      <td>q1</td>\n",
       "      <td>q0</td>\n",
       "      <td>No</td>\n",
       "    </tr>\n",
       "    <tr>\n",
       "      <th>1</th>\n",
       "      <td>q2</td>\n",
       "      <td>q0</td>\n",
       "      <td>q2</td>\n",
       "      <td>No</td>\n",
       "    </tr>\n",
       "    <tr>\n",
       "      <th>2</th>\n",
       "      <td>q0</td>\n",
       "      <td>q2</td>\n",
       "      <td>q1</td>\n",
       "      <td>Yes</td>\n",
       "    </tr>\n",
       "  </tbody>\n",
       "</table>\n",
       "</div>"
      ],
      "text/plain": [
       "  State   1   0 Accept\n",
       "0    q1  q1  q0     No\n",
       "1    q2  q0  q2     No\n",
       "2    q0  q2  q1    Yes"
      ]
     },
     "metadata": {},
     "output_type": "display_data"
    },
    {
     "data": {
      "image/png": "[encoded data removed]",
      "text/plain": [
       "<Figure size 640x480 with 1 Axes>"
      ]
     },
     "metadata": {},
     "output_type": "display_data"
    }
   ],
   "source": [
    "dfa = create_dfa()\n",
    "display_dfa_table(dfa)\n",
    "display_dfa_diagram(dfa)"
   ]
  }
 ],
 "metadata": {
  "kernelspec": {
   "display_name": "Python 3",
   "language": "python",
   "name": "python3"
  },
  "language_info": {
   "codemirror_mode": {
    "name": "ipython",
    "version": 3
   },
   "file_extension": ".py",
   "mimetype": "text/x-python",
   "name": "python",
   "nbconvert_exporter": "python",
   "pygments_lexer": "ipython3",
   "version": "3.11.1"
  }
 },
 "nbformat": 4,
 "nbformat_minor": 2
}
