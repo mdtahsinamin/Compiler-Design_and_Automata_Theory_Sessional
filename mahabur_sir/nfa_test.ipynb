{
 "cells": [
  {
   "cell_type": "code",
   "execution_count": 1,
   "metadata": {},
   "outputs": [],
   "source": [
    "import graphviz\n",
    "from tabulate import tabulate \n",
    "from IPython.display import display, Image"
   ]
  },
  {
   "cell_type": "code",
   "execution_count": 2,
   "metadata": {},
   "outputs": [],
   "source": [
    "class NFA:\n",
    "    def __init__(self, states, alphabet, transitions, start_state, accept_states):\n",
    "        self.states = states\n",
    "        self.alphabet = alphabet\n",
    "        self.transitions = transitions\n",
    "        self.start_state = start_state\n",
    "        self.accept_states = accept_states\n",
    "\n",
    "    def is_accepting(self, state):\n",
    "        return state in self.accept_states\n",
    "\n",
    "    def process_input(self, input_string):\n",
    "        current_states = {self.start_state}\n",
    "        for symbol in input_string:\n",
    "            next_states = set()\n",
    "            for state in current_states:\n",
    "                next_states.update(self.transitions.get((state, symbol), set()))\n",
    "            current_states = next_states\n",
    "        return any(self.is_accepting(state) for state in current_states)\n",
    "\n",
    "    def generate_state_table(self):\n",
    "        headers = ['State'] + list(self.alphabet) + ['Accepting']\n",
    "        rows = []\n",
    "\n",
    "        for state in self.states:\n",
    "            row = [state]\n",
    "            for symbol in self.alphabet:\n",
    "                next_states = self.transitions.get((state, symbol), set())\n",
    "                row.append(', '.join(sorted(next_states)))\n",
    "            row.append('Yes' if self.is_accepting(state) else 'No')\n",
    "            rows.append(row)\n",
    "\n",
    "        return tabulate(rows, headers=headers, tablefmt='grid')"
   ]
  },
  {
   "cell_type": "code",
   "execution_count": 3,
   "metadata": {},
   "outputs": [],
   "source": [
    "def visualize_nfa(nfa):\n",
    "    dot = graphviz.Digraph('NFA', format='png')\n",
    "    dot.attr(rankdir='LR')\n",
    "\n",
    "    for state in nfa.states:\n",
    "        dot.node(state, shape='circle', color='black' if state in nfa.accept_states else 'white')\n",
    "\n",
    "    for transition, next_states in nfa.transitions.items():\n",
    "        for next_state in next_states:\n",
    "            dot.edge(transition[0], next_state, label=transition[1])\n",
    "\n",
    "    dot.render('nfa', format='png', cleanup=True)\n",
    "    file_path = \"nfa\"\n",
    "    png_file_path = f\"{file_path}.png\"\n",
    "    display(Image(filename=png_file_path))"
   ]
  },
  {
   "cell_type": "code",
   "execution_count": 4,
   "metadata": {},
   "outputs": [
    {
     "data": {
      "image/png": "[encoded data removed]",
      "text/plain": [
       "<IPython.core.display.Image object>"
      ]
     },
     "metadata": {},
     "output_type": "display_data"
    },
    {
     "name": "stdout",
     "output_type": "stream",
     "text": [
      "\n",
      "State Table:\n",
      "+---------+--------+-----+-------------+\n",
      "| State   | 1      | 0   | Accepting   |\n",
      "+=========+========+=====+=============+\n",
      "| q1      | q1     | q1  | Yes         |\n",
      "+---------+--------+-----+-------------+\n",
      "| q0      | q0, q1 | q0  | No          |\n",
      "+---------+--------+-----+-------------+\n",
      "The DFA rejects the input string 'aaab'\n"
     ]
    }
   ],
   "source": [
    "# Example NFA for the language of strings ending with 'ab'\n",
    "states = {'q0', 'q1'}\n",
    "alphabet = {'0', '1'}\n",
    "transitions = {\n",
    "        ('q0', '0'): {'q0'},\n",
    "        ('q0', '1'): {'q0', 'q1'},\n",
    "        ('q1', '0'): {'q1'},\n",
    "        ('q1', '1'): {'q1'},\n",
    "    }\n",
    "start_state = 'q0'\n",
    "accept_states = {'q1'}\n",
    "nfa_example = NFA(states, alphabet, transitions, start_state, accept_states)\n",
    "\n",
    "# Visualize the NFA\n",
    "visualize_nfa(nfa_example)\n",
    "\n",
    "# Generate and print the state table\n",
    "state_table = nfa_example.generate_state_table()\n",
    "print(\"\\nState Table:\")\n",
    "print(state_table)\n",
    "input_string = 'aaab'\n",
    "result = nfa_example.process_input(input_string)\n",
    "print(f\"The DFA {'accepts' if result else 'rejects'} the input string '{input_string}'\")"
   ]
  }
 ],
 "metadata": {
  "kernelspec": {
   "display_name": "Python 3",
   "language": "python",
   "name": "python3"
  },
  "language_info": {
   "codemirror_mode": {
    "name": "ipython",
    "version": 3
   },
   "file_extension": ".py",
   "mimetype": "text/x-python",
   "name": "python",
   "nbconvert_exporter": "python",
   "pygments_lexer": "ipython3",
   "version": "3.11.1"
  }
 },
 "nbformat": 4,
 "nbformat_minor": 2
}
